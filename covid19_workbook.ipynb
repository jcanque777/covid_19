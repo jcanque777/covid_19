{
 "cells": [
  {
   "cell_type": "markdown",
   "metadata": {},
   "source": [
    "# Load Data"
   ]
  },
  {
   "cell_type": "code",
   "execution_count": 2,
   "metadata": {},
   "outputs": [],
   "source": [
    "import numpy as np\n",
    "import pandas as pd\n",
    "import glob\n",
    "import json\n",
    "\n",
    "import matplotlib.pyplot as plt\n",
    "plt.style.use('ggplot')"
   ]
  },
  {
   "cell_type": "code",
   "execution_count": 5,
   "metadata": {},
   "outputs": [],
   "source": [
    "# meta_df = pd.read_csv(\"metadata.csv\")"
   ]
  },
  {
   "cell_type": "code",
   "execution_count": 8,
   "metadata": {},
   "outputs": [],
   "source": [
    "# if you were to do this individually\n",
    "# meta_df['pubmed_id'] = meta_df['pubmed_id'].astype(str)\n"
   ]
  },
  {
   "cell_type": "code",
   "execution_count": 12,
   "metadata": {},
   "outputs": [],
   "source": [
    "meta_df = pd.read_csv('metadata.csv', dtype ={\n",
    "    'pubmed_id': str,\n",
    "    'Microsoft Academic Paper ID': str,\n",
    "    'doi' : str\n",
    "})"
   ]
  },
  {
   "cell_type": "markdown",
   "metadata": {},
   "source": [
    "## Fetch All of JSON File Path"
   ]
  },
  {
   "cell_type": "code",
   "execution_count": 23,
   "metadata": {},
   "outputs": [
    {
     "name": "stdout",
     "output_type": "stream",
     "text": [
      "COVID.DATA.LIC.AGMT.pdf  \u001b[34mcomm_use_subset\u001b[m\u001b[m/         metadata.readme\r\n",
      "README.md                \u001b[34mcustom_license\u001b[m\u001b[m/          \u001b[34mnoncomm_use_subset\u001b[m\u001b[m/\r\n",
      "Untitled.ipynb           json_schema.txt\r\n",
      "\u001b[34mbiorxiv_medrxiv\u001b[m\u001b[m/         metadata.csv\r\n"
     ]
    }
   ],
   "source": [
    "ls"
   ]
  },
  {
   "cell_type": "code",
   "execution_count": 27,
   "metadata": {},
   "outputs": [
    {
     "data": {
      "text/plain": [
       "'/Users/johnrick/Desktop/DataScienceLearn/blog_covid19'"
      ]
     },
     "execution_count": 27,
     "metadata": {},
     "output_type": "execute_result"
    }
   ],
   "source": [
    "pwd"
   ]
  },
  {
   "cell_type": "code",
   "execution_count": 34,
   "metadata": {},
   "outputs": [],
   "source": [
    "all_json = glob.glob(f'{\"/Users/johnrick/Desktop/DataScienceLearn/blog_covid19\"}/**/*.json', recursive=True)"
   ]
  },
  {
   "cell_type": "code",
   "execution_count": 35,
   "metadata": {},
   "outputs": [
    {
     "data": {
      "text/plain": [
       "33375"
      ]
     },
     "execution_count": 35,
     "metadata": {},
     "output_type": "execute_result"
    }
   ],
   "source": [
    "len(all_json)"
   ]
  },
  {
   "cell_type": "markdown",
   "metadata": {},
   "source": [
    "# Create Helper Functions"
   ]
  },
  {
   "cell_type": "code",
   "execution_count": 37,
   "metadata": {},
   "outputs": [
    {
     "name": "stdout",
     "output_type": "stream",
     "text": [
      "86a998617c077f4fe2ab26214995a3548fbc0fc5: The recent emergence of the Middle East respiratory syndrome (MERS)-CoV, a close relative of the Severe Acute respiratory syndrome (SARS)-CoV, both of which caused a lethal respiratory infection in hu... While most CoVs cause the common cold in humans, infection with two recently emerged CoVs, SARS-CoV and MERS-CoV, resulted in more severe pulmonary disease with alarmingly high case fatality rates [1]...\n"
     ]
    }
   ],
   "source": [
    "class FileReader:\n",
    "    def __init__(self, file_path):\n",
    "        with open(file_path) as file:\n",
    "            content = json.load(file)\n",
    "            self.paper_id = content['paper_id']\n",
    "            self.abstract = []\n",
    "            self.body_text = []\n",
    "            #abstract\n",
    "            for entry in content['abstract']:\n",
    "                self.abstract.append(entry['text'])\n",
    "            #body text\n",
    "            for entry in content['body_text']:\n",
    "                self.body_text.append(entry['text'])\n",
    "            self.abstract = '\\n'.join(self.abstract)\n",
    "            self.body_text = '\\n'.join(self.body_text)\n",
    "    def __repr__(self):\n",
    "        return f'{self.paper_id}: {self.abstract[:200]}... {self.body_text[:200]}...'\n",
    "first_row=FileReader(all_json[0])\n",
    "print(first_row)"
   ]
  },
  {
   "cell_type": "code",
   "execution_count": 38,
   "metadata": {},
   "outputs": [],
   "source": [
    "def get_breaks(content, length):\n",
    "    data = \"\"\n",
    "    words = content.split(' ')\n",
    "    total_chars = 0\n",
    "    \n",
    "    #add break every length characters\n",
    "    for i in range(len(words)):\n",
    "        total_chars += len(words[i])\n",
    "        if total_chars > length:\n",
    "            data = data + \"<br>\" + words[i]\n",
    "            total_chars = 0\n",
    "        else:\n",
    "            data = data + \" \" + words[i]\n",
    "    return data"
   ]
  },
  {
   "cell_type": "markdown",
   "metadata": {},
   "source": [
    "## Load into DataFrame"
   ]
  },
  {
   "cell_type": "code",
   "execution_count": 39,
   "metadata": {},
   "outputs": [
    {
     "name": "stdout",
     "output_type": "stream",
     "text": [
      "Processing index: 0 of 33375\n",
      "Processing index: 3337 of 33375\n",
      "Processing index: 6674 of 33375\n",
      "Processing index: 10011 of 33375\n",
      "Processing index: 13348 of 33375\n",
      "Processing index: 16685 of 33375\n",
      "Processing index: 20022 of 33375\n",
      "Processing index: 23359 of 33375\n",
      "Processing index: 26696 of 33375\n",
      "Processing index: 30033 of 33375\n",
      "Processing index: 33370 of 33375\n"
     ]
    },
    {
     "data": {
      "text/html": [
       "<div>\n",
       "<style scoped>\n",
       "    .dataframe tbody tr th:only-of-type {\n",
       "        vertical-align: middle;\n",
       "    }\n",
       "\n",
       "    .dataframe tbody tr th {\n",
       "        vertical-align: top;\n",
       "    }\n",
       "\n",
       "    .dataframe thead th {\n",
       "        text-align: right;\n",
       "    }\n",
       "</style>\n",
       "<table border=\"1\" class=\"dataframe\">\n",
       "  <thead>\n",
       "    <tr style=\"text-align: right;\">\n",
       "      <th></th>\n",
       "      <th>paper_id</th>\n",
       "      <th>abstract</th>\n",
       "      <th>body_text</th>\n",
       "      <th>authors</th>\n",
       "      <th>title</th>\n",
       "      <th>journal</th>\n",
       "      <th>abstract_summary</th>\n",
       "    </tr>\n",
       "  </thead>\n",
       "  <tbody>\n",
       "    <tr>\n",
       "      <td>0</td>\n",
       "      <td>ab680d5dbc4f51252da3473109a7885dd6b5eb6f</td>\n",
       "      <td></td>\n",
       "      <td>The evolutionary history of humans is characte...</td>\n",
       "      <td>Scarpino, S.V.</td>\n",
       "      <td>Evolutionary Medicine IV. Evolution and&lt;br&gt;Em...</td>\n",
       "      <td>Encyclopedia of Evolutionary Biology</td>\n",
       "      <td>Not provided.</td>\n",
       "    </tr>\n",
       "    <tr>\n",
       "      <td>1</td>\n",
       "      <td>6599ebbef3d868afac9daa4f80fa075675cf03bc</td>\n",
       "      <td>International aviation is growing rapidly, res...</td>\n",
       "      <td>Sixty years ago, civil aviation was an infant ...</td>\n",
       "      <td>Macintosh, Andrew.  Wallace, Lailey</td>\n",
       "      <td>International aviation emissions to 2025: Can...</td>\n",
       "      <td>Energy Policy</td>\n",
       "      <td>International aviation is growing rapidly,&lt;br...</td>\n",
       "    </tr>\n",
       "    <tr>\n",
       "      <td>2</td>\n",
       "      <td>eb5c7f3ff921ad6469b79cc8a3c122648204ece4</td>\n",
       "      <td></td>\n",
       "      <td>Acute infections of the gastrointestinal tract...</td>\n",
       "      <td>Booth, I.W..  McNeish, A.S.</td>\n",
       "      <td>Mechanisms of diarrhoea</td>\n",
       "      <td>Baillière's Clinical Gastroenterology</td>\n",
       "      <td>Not provided.</td>\n",
       "    </tr>\n",
       "    <tr>\n",
       "      <td>3</td>\n",
       "      <td>b87b790c96c75faa22a085cb560f7b3d8e018b24</td>\n",
       "      <td></td>\n",
       "      <td>There are three domains of life-Bacteria, Arch...</td>\n",
       "      <td>Louten, Jennifer</td>\n",
       "      <td>Chapter 3 Features of Host Cells Cellular and...</td>\n",
       "      <td>Essential Human Virology</td>\n",
       "      <td>Not provided.</td>\n",
       "    </tr>\n",
       "    <tr>\n",
       "      <td>4</td>\n",
       "      <td>68c0bb1989b6ca2b38da32a0d992027db39f80bc</td>\n",
       "      <td>Hong Kong's new Police Commissioner Chris Tang...</td>\n",
       "      <td>It is also noteworthy that Tang, who was once ...</td>\n",
       "      <td>Hui, Victoria Tin-bor</td>\n",
       "      <td>Beijing's Hard and Soft Repression in Hong Kong</td>\n",
       "      <td>Orbis</td>\n",
       "      <td>Hong Kong's new Police Commissioner Chris Tan...</td>\n",
       "    </tr>\n",
       "  </tbody>\n",
       "</table>\n",
       "</div>"
      ],
      "text/plain": [
       "                                   paper_id  \\\n",
       "0  ab680d5dbc4f51252da3473109a7885dd6b5eb6f   \n",
       "1  6599ebbef3d868afac9daa4f80fa075675cf03bc   \n",
       "2  eb5c7f3ff921ad6469b79cc8a3c122648204ece4   \n",
       "3  b87b790c96c75faa22a085cb560f7b3d8e018b24   \n",
       "4  68c0bb1989b6ca2b38da32a0d992027db39f80bc   \n",
       "\n",
       "                                            abstract  \\\n",
       "0                                                      \n",
       "1  International aviation is growing rapidly, res...   \n",
       "2                                                      \n",
       "3                                                      \n",
       "4  Hong Kong's new Police Commissioner Chris Tang...   \n",
       "\n",
       "                                           body_text  \\\n",
       "0  The evolutionary history of humans is characte...   \n",
       "1  Sixty years ago, civil aviation was an infant ...   \n",
       "2  Acute infections of the gastrointestinal tract...   \n",
       "3  There are three domains of life-Bacteria, Arch...   \n",
       "4  It is also noteworthy that Tang, who was once ...   \n",
       "\n",
       "                               authors  \\\n",
       "0                       Scarpino, S.V.   \n",
       "1  Macintosh, Andrew.  Wallace, Lailey   \n",
       "2          Booth, I.W..  McNeish, A.S.   \n",
       "3                     Louten, Jennifer   \n",
       "4                Hui, Victoria Tin-bor   \n",
       "\n",
       "                                               title  \\\n",
       "0   Evolutionary Medicine IV. Evolution and<br>Em...   \n",
       "1   International aviation emissions to 2025: Can...   \n",
       "2                            Mechanisms of diarrhoea   \n",
       "3   Chapter 3 Features of Host Cells Cellular and...   \n",
       "4    Beijing's Hard and Soft Repression in Hong Kong   \n",
       "\n",
       "                                 journal  \\\n",
       "0   Encyclopedia of Evolutionary Biology   \n",
       "1                          Energy Policy   \n",
       "2  Baillière's Clinical Gastroenterology   \n",
       "3               Essential Human Virology   \n",
       "4                                  Orbis   \n",
       "\n",
       "                                    abstract_summary  \n",
       "0                                      Not provided.  \n",
       "1   International aviation is growing rapidly,<br...  \n",
       "2                                      Not provided.  \n",
       "3                                      Not provided.  \n",
       "4   Hong Kong's new Police Commissioner Chris Tan...  "
      ]
     },
     "execution_count": 39,
     "metadata": {},
     "output_type": "execute_result"
    }
   ],
   "source": [
    "dict_ = {'paper_id': [], 'abstract': [], 'body_text': [], 'authors': [], 'title': [], 'journal': [], 'abstract_summary': []}\n",
    "for idx, entry in enumerate(all_json):\n",
    "    if idx % (len(all_json) // 10) == 0:\n",
    "        print(f'Processing index: {idx} of {len(all_json)}')\n",
    "    content = FileReader(entry)\n",
    "    \n",
    "    # get metadata information\n",
    "    meta_data = meta_df.loc[meta_df['sha'] == content.paper_id]\n",
    "    # no metadata, skip this paper\n",
    "    if len(meta_data) == 0:\n",
    "        continue\n",
    "    \n",
    "    dict_['paper_id'].append(content.paper_id)\n",
    "    dict_['abstract'].append(content.abstract)\n",
    "    dict_['body_text'].append(content.body_text)\n",
    "    \n",
    "    # also create a column for the summary of abstract to be used in a plot\n",
    "    if len(content.abstract) == 0: \n",
    "        # no abstract provided\n",
    "        dict_['abstract_summary'].append(\"Not provided.\")\n",
    "    elif len(content.abstract.split(' ')) > 100:\n",
    "        # abstract provided is too long for plot, take first 300 words append with ...\n",
    "        info = content.abstract.split(' ')[:100]\n",
    "        summary = get_breaks(' '.join(info), 40)\n",
    "        dict_['abstract_summary'].append(summary + \"...\")\n",
    "    else:\n",
    "        # abstract is short enough\n",
    "        summary = get_breaks(content.abstract, 40)\n",
    "        dict_['abstract_summary'].append(summary)\n",
    "        \n",
    "    # get metadata information\n",
    "    meta_data = meta_df.loc[meta_df['sha'] == content.paper_id]\n",
    "    \n",
    "    try:\n",
    "        # if more than one author\n",
    "        authors = meta_data['authors'].values[0].split(';')\n",
    "        if len(authors) > 2:\n",
    "            # more than 2 authors, may be problem when plotting, so take first 2 append with ...\n",
    "            dict_['authors'].append(\". \".join(authors[:2]) + \"...\")\n",
    "        else:\n",
    "            # authors will fit in plot\n",
    "            dict_['authors'].append(\". \".join(authors))\n",
    "    except Exception as e:\n",
    "        # if only one author - or Null valie\n",
    "        dict_['authors'].append(meta_data['authors'].values[0])\n",
    "    \n",
    "    # add the title information, add breaks when needed\n",
    "    try:\n",
    "        title = get_breaks(meta_data['title'].values[0], 40)\n",
    "        dict_['title'].append(title)\n",
    "    # if title was not provided\n",
    "    except Exception as e:\n",
    "        dict_['title'].append(meta_data['title'].values[0])\n",
    "    \n",
    "    # add the journal information\n",
    "    dict_['journal'].append(meta_data['journal'].values[0])\n",
    "    \n",
    "df_covid = pd.DataFrame(dict_, columns=['paper_id', 'abstract', 'body_text', 'authors', 'title', 'journal', 'abstract_summary'])\n",
    "df_covid.head()"
   ]
  },
  {
   "cell_type": "code",
   "execution_count": null,
   "metadata": {},
   "outputs": [],
   "source": []
  },
  {
   "cell_type": "code",
   "execution_count": null,
   "metadata": {},
   "outputs": [],
   "source": []
  }
 ],
 "metadata": {
  "kernelspec": {
   "display_name": "Python 3",
   "language": "python",
   "name": "python3"
  },
  "language_info": {
   "codemirror_mode": {
    "name": "ipython",
    "version": 3
   },
   "file_extension": ".py",
   "mimetype": "text/x-python",
   "name": "python",
   "nbconvert_exporter": "python",
   "pygments_lexer": "ipython3",
   "version": "3.7.4"
  },
  "toc": {
   "base_numbering": 1,
   "nav_menu": {},
   "number_sections": true,
   "sideBar": true,
   "skip_h1_title": false,
   "title_cell": "Table of Contents",
   "title_sidebar": "Contents",
   "toc_cell": false,
   "toc_position": {
    "height": "calc(100% - 180px)",
    "left": "10px",
    "top": "150px",
    "width": "213.333px"
   },
   "toc_section_display": true,
   "toc_window_display": true
  }
 },
 "nbformat": 4,
 "nbformat_minor": 2
}
